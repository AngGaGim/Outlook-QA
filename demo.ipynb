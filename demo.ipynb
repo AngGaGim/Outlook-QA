{
 "cells": [
  {
   "cell_type": "code",
   "execution_count": null,
   "id": "initial_id",
   "metadata": {
    "collapsed": true
   },
   "outputs": [],
   "source": [
    "import requests\n",
    "\n",
    "def get_mails(access_token):\n",
    "    # 定义请求参数\n",
    "    endpoint = \"https://graph.microsoft.com/v1.0/me/messages\"\n",
    "\n",
    "    # 构造请求头\n",
    "    headers = {\n",
    "        \"Authorization\": f\"Bearer {access_token}\",\n",
    "        \"Content-Type\": \"application/json\"\n",
    "    }\n",
    "\n",
    "    try:\n",
    "        # 发送GET请求\n",
    "        response = requests.get(endpoint, headers=headers)\n",
    "        response.raise_for_status()  # 检查HTTP错误\n",
    "\n",
    "        # 解析响应数据\n",
    "        messages = response.json().get(\"value\", [])\n",
    "        # print(messages)\n",
    "        # 打印邮件主题\n",
    "        return messages\n",
    "\n",
    "    except requests.exceptions.HTTPError as err:\n",
    "        print(f\"HTTP错误: {err}\")\n",
    "        if response.status_code == 401:\n",
    "            print(\"Token可能已过期或权限不足\")\n",
    "        elif response.status_code == 403:\n",
    "            print(\"缺少邮件读取权限 (Mail.Read)\")\n",
    "    except Exception as e:\n",
    "        print(f\"其他错误: {e}\")\n",
    "\n",
    "\n"
   ]
  },
  {
   "metadata": {},
   "cell_type": "code",
   "outputs": [],
   "execution_count": null,
   "source": [
    "access_token = \"EwA4BMl6BAAUBKgm8k1UswUNwklmy2v7U/S+1fEAAXZ4GvFX/eRC1NDgZX/ipBNkKZJjhOK0gW5SQpLckw5SBAapEv179Sj4JxVY6EDNhvfOZij6eAK6AmEYnGqzBJdckpTGKV0zFc+5Qxc6/z4ZwV93Gv1RCMECqIPMXMMA7Obd/3UZhguyGjGZfj5PnjFWF883hnvAdTvGoomX/2Z6e/vYYY1ZT1Tw44RlmCvEdtp82kNNcTBaooJ1w26gbNh+Xk4qjRexAZVrBQZtHfv/qEHvY/EEFVT6Twv7FaJwYPv35NKwoOtQzD6dk/qPoV2H/XitG6JcEgOHJcBhRxe7uppFRBLPZC9Mm5m61nZRT/LtuE094eVEtw+7V//yOJAQZgAAEIu8pEALRQjxFGk6HZv2ScIAA3XW5L8y0bYQ8xw6FXIMr2NM+xyuv1vj/XPS26R91BaodCNaHL6iaxxqTjsxPwRMq++6a5dWyiw+3wj8WdXoTxagP/JefXVd3uRWtCrsTsCRLjJDbOBJR63Kmna47JA2ij+LKeLt9w7mWVuTaSRbSKWo2rFNbQRQFQHYs6knAu1qbso4mL4xg4NMbcJYpKTQ2wdIDQrDgLFO+bBWnot0YFfJt/TLGZFDnyaqg4gJILI86E6W+ir1G6GsvXbTgw+isRcaqNujipbth7+4OrxjHGFYiKLZd81BGYQr2F31QZUVIWDUM9G3Gpv9QuMRG/s+lpbIxWqjG6wdA/GThMxQX2NHW8EdINfubAUJUxmYtPGOYF6xTQif1wMVqjjlGN+qpX+ft0XtvErb5YcUx7gLLnoBH7RxQI8mK/Nt17u6IPfBYqO5/jh8ybU4LkYYMiEo9bRXmIel/Z6mGj/iNmAzlkOAdhx2A75ffa92ISqO3u9IqeF2T6z/pxVXTdQUgX0y1JQoVwYdTIVeD7L7BOJg7RiQHAtDiH9fUcUPGFOJWG0ogk22TJIAtvkfvbBPxJvz1e8heG2CA/BXa7/ymu2eJbdp9r71neZq9Fke4F+XTniXErh2bBCH2GDGLYvMOrEUtIXr72M9ONRR3/3MnWbQPelHvi7aSy8RkXj78RyHlbz+KlSTzl5IawD5mxnDw4XC1O5oPHNIm+NDWrLEI8FTYFUK8x1ZdijT25INOtWRb/Fe8FVrjllNefhmsGqoXtv6KoxW/iT2l8vrEbUENVF65y3koelMnP1wtPbiXROIZ7JP0pCCKeNNPs0khRsftrhXz4fUFLYyWgJ95wkPlvam1g8OeIqGF6fOpAAvaa0W0EqN+W6OG3DIJO8uil8v8/eaSOvXYbyRrNMmwEtyFfvM2x6J9V9X+e6gGLS5Z8aXE4SoHIHn06EjnE7MAQyk40TlxkW9I1y3UYUDkuLaZcNKCnhRw2XcSRcpQcHJ4XrJt5G5nm8JoIiFXLyEpDZwJ6+uSkID\"\n",
    "\n",
    "messages = get_mails(access_token)\n",
    "for msg in messages:\n",
    "            print(f\"邮件ID: {msg.get('id')}\")\n",
    "            print(f\"主题: {msg.get('subject', '无主题')}\")\n",
    "            print(f\"发件人: {msg.get('from', {}).get('emailAddress', {}).get('address')}\")\n",
    "            print(\"-\" * 50)"
   ],
   "id": "1ff0f05b49913cb7"
  }
 ],
 "metadata": {
  "kernelspec": {
   "display_name": "Python 3",
   "language": "python",
   "name": "python3"
  },
  "language_info": {
   "codemirror_mode": {
    "name": "ipython",
    "version": 2
   },
   "file_extension": ".py",
   "mimetype": "text/x-python",
   "name": "python",
   "nbconvert_exporter": "python",
   "pygments_lexer": "ipython2",
   "version": "2.7.6"
  }
 },
 "nbformat": 4,
 "nbformat_minor": 5
}
