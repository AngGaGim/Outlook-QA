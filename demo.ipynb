{
 "cells": [
  {
   "cell_type": "code",
   "execution_count": null,
   "id": "initial_id",
   "metadata": {
    "collapsed": true
   },
   "outputs": [],
   "source": [
    "import requests\n",
    "\n",
    "def get_mails(access_token):\n",
    "    # 定义请求参数\n",
    "    endpoint = \"https://graph.microsoft.com/v1.0/me/messages\"\n",
    "\n",
    "    # 构造请求头\n",
    "    headers = {\n",
    "        \"Authorization\": f\"Bearer {access_token}\",\n",
    "        \"Content-Type\": \"application/json\"\n",
    "    }\n",
    "\n",
    "    try:\n",
    "        # 发送GET请求\n",
    "        response = requests.get(endpoint, headers=headers)\n",
    "        response.raise_for_status()  # 检查HTTP错误\n",
    "\n",
    "        # 解析响应数据\n",
    "        messages = response.json().get(\"value\", [])\n",
    "        # print(messages)\n",
    "        # 打印邮件主题\n",
    "        return messages\n",
    "\n",
    "    except requests.exceptions.HTTPError as err:\n",
    "        print(f\"HTTP错误: {err}\")\n",
    "        if response.status_code == 401:\n",
    "            print(\"Token可能已过期或权限不足\")\n",
    "        elif response.status_code == 403:\n",
    "            print(\"缺少邮件读取权限 (Mail.Read)\")\n",
    "    except Exception as e:\n",
    "        print(f\"其他错误: {e}\")\n",
    "\n",
    "\n"
   ]
  },
  {
   "metadata": {},
   "cell_type": "code",
   "outputs": [],
   "execution_count": null,
   "source": [
    "access_token = \"<KEY>\" # your access_token\n",
    "\n",
    "messages = get_mails(access_token)\n",
    "for msg in messages:\n",
    "            print(f\"mail ID: {msg.get('id')}\")\n",
    "            print(f\"theme: {msg.get('subject', '无主题')}\")\n",
    "            print(f\"sender: {msg.get('from', {}).get('emailAddress', {}).get('address')}\")\n",
    "            print(\"-\" * 50)"
   ],
   "id": "1ff0f05b49913cb7"
  }
 ],
 "metadata": {
  "kernelspec": {
   "display_name": "Python 3",
   "language": "python",
   "name": "python3"
  },
  "language_info": {
   "codemirror_mode": {
    "name": "ipython",
    "version": 2
   },
   "file_extension": ".py",
   "mimetype": "text/x-python",
   "name": "python",
   "nbconvert_exporter": "python",
   "pygments_lexer": "ipython2",
   "version": "2.7.6"
  }
 },
 "nbformat": 4,
 "nbformat_minor": 5
}
